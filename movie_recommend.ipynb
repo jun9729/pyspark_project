{
  "nbformat": 4,
  "nbformat_minor": 0,
  "metadata": {
    "colab": {
      "name": "movie_recommend.ipynb",
      "provenance": [],
      "authorship_tag": "ABX9TyNmG6X2KaIWnGW//bkunYRc",
      "include_colab_link": true
    },
    "kernelspec": {
      "name": "python3",
      "display_name": "Python 3"
    },
    "language_info": {
      "name": "python"
    }
  },
  "cells": [
    {
      "cell_type": "markdown",
      "metadata": {
        "id": "view-in-github",
        "colab_type": "text"
      },
      "source": [
        "<a href=\"https://colab.research.google.com/github/jun9729/pyspark_project/blob/main/movie_recommend.ipynb\" target=\"_parent\"><img src=\"https://colab.research.google.com/assets/colab-badge.svg\" alt=\"Open In Colab\"/></a>"
      ]
    },
    {
      "cell_type": "code",
      "metadata": {
        "id": "XlYOUUKZOJP6"
      },
      "source": [
        "# Pyspark Library #\n",
        "# SQL\n",
        "from pyspark.sql import SparkSession\n",
        "from pyspark.sql import SQLContext\n",
        "from pyspark.sql.functions import mean, col, split, regexp_extract, when, lit\n",
        "# ML\n",
        "from pyspark.ml import Pipeline\n",
        "from pyspark.ml.feature import StringIndexer, VectorAssembler, IndexToString\n",
        "from pyspark.ml.feature import QuantileDiscretizer\n",
        "from pyspark.ml.evaluation import MulticlassClassificationEvaluator"
      ],
      "execution_count": 47,
      "outputs": []
    },
    {
      "cell_type": "code",
      "metadata": {
        "id": "KlQkwbYBOLlu"
      },
      "source": [
        "spark = SparkSession.builder.appName(\"movie_recommend\").getOrCreate()"
      ],
      "execution_count": 48,
      "outputs": []
    },
    {
      "cell_type": "code",
      "metadata": {
        "colab": {
          "base_uri": "https://localhost:8080/"
        },
        "id": "BZAUSe94OXk-",
        "outputId": "0a0db946-10b3-4c54-d775-084e9bf857f1"
      },
      "source": [
        "df = spark.read.csv(\"/content/movie_ratings.csv\", inferSchema=True, header=True)\n",
        "df.show()"
      ],
      "execution_count": 57,
      "outputs": [
        {
          "output_type": "stream",
          "name": "stdout",
          "text": [
            "+------+------+----------------+\n",
            "|userId|rating|           title|\n",
            "+------+------+----------------+\n",
            "|     1|   4.0|Toy Story (1995)|\n",
            "|     5|   4.0|Toy Story (1995)|\n",
            "|     7|   4.5|Toy Story (1995)|\n",
            "|    15|   2.5|Toy Story (1995)|\n",
            "|    17|   4.5|Toy Story (1995)|\n",
            "|    18|   3.5|Toy Story (1995)|\n",
            "|    19|   4.0|Toy Story (1995)|\n",
            "|    21|   3.5|Toy Story (1995)|\n",
            "|    27|   3.0|Toy Story (1995)|\n",
            "|    31|   5.0|Toy Story (1995)|\n",
            "|    32|   3.0|Toy Story (1995)|\n",
            "|    33|   3.0|Toy Story (1995)|\n",
            "|    40|   5.0|Toy Story (1995)|\n",
            "|    43|   5.0|Toy Story (1995)|\n",
            "|    44|   3.0|Toy Story (1995)|\n",
            "|    45|   4.0|Toy Story (1995)|\n",
            "|    46|   5.0|Toy Story (1995)|\n",
            "|    50|   3.0|Toy Story (1995)|\n",
            "|    54|   3.0|Toy Story (1995)|\n",
            "|    57|   5.0|Toy Story (1995)|\n",
            "+------+------+----------------+\n",
            "only showing top 20 rows\n",
            "\n"
          ]
        }
      ]
    },
    {
      "cell_type": "code",
      "metadata": {
        "colab": {
          "base_uri": "https://localhost:8080/",
          "height": 206
        },
        "id": "u_RlejhCVqRH",
        "outputId": "5c47ad29-b31d-491b-af32-3d975dc6bb5d"
      },
      "source": [
        "from pyspark.ml.feature import StringIndexer, VectorAssembler, IndexToString\n",
        "\n",
        "stringIndexer = StringIndexer(inputCol='title',\n",
        "                             outputCol='movieId')\n",
        "model = stringIndexer.fit(df)\n",
        "indexed = model.transform(df)\n",
        "indexed.limit(5).toPandas()"
      ],
      "execution_count": 58,
      "outputs": [
        {
          "output_type": "execute_result",
          "data": {
            "text/html": [
              "<div>\n",
              "<style scoped>\n",
              "    .dataframe tbody tr th:only-of-type {\n",
              "        vertical-align: middle;\n",
              "    }\n",
              "\n",
              "    .dataframe tbody tr th {\n",
              "        vertical-align: top;\n",
              "    }\n",
              "\n",
              "    .dataframe thead th {\n",
              "        text-align: right;\n",
              "    }\n",
              "</style>\n",
              "<table border=\"1\" class=\"dataframe\">\n",
              "  <thead>\n",
              "    <tr style=\"text-align: right;\">\n",
              "      <th></th>\n",
              "      <th>userId</th>\n",
              "      <th>rating</th>\n",
              "      <th>title</th>\n",
              "      <th>movieId</th>\n",
              "    </tr>\n",
              "  </thead>\n",
              "  <tbody>\n",
              "    <tr>\n",
              "      <th>0</th>\n",
              "      <td>1</td>\n",
              "      <td>4.0</td>\n",
              "      <td>Toy Story (1995)</td>\n",
              "      <td>11.0</td>\n",
              "    </tr>\n",
              "    <tr>\n",
              "      <th>1</th>\n",
              "      <td>5</td>\n",
              "      <td>4.0</td>\n",
              "      <td>Toy Story (1995)</td>\n",
              "      <td>11.0</td>\n",
              "    </tr>\n",
              "    <tr>\n",
              "      <th>2</th>\n",
              "      <td>7</td>\n",
              "      <td>4.5</td>\n",
              "      <td>Toy Story (1995)</td>\n",
              "      <td>11.0</td>\n",
              "    </tr>\n",
              "    <tr>\n",
              "      <th>3</th>\n",
              "      <td>15</td>\n",
              "      <td>2.5</td>\n",
              "      <td>Toy Story (1995)</td>\n",
              "      <td>11.0</td>\n",
              "    </tr>\n",
              "    <tr>\n",
              "      <th>4</th>\n",
              "      <td>17</td>\n",
              "      <td>4.5</td>\n",
              "      <td>Toy Story (1995)</td>\n",
              "      <td>11.0</td>\n",
              "    </tr>\n",
              "  </tbody>\n",
              "</table>\n",
              "</div>"
            ],
            "text/plain": [
              "   userId  rating             title  movieId\n",
              "0       1     4.0  Toy Story (1995)     11.0\n",
              "1       5     4.0  Toy Story (1995)     11.0\n",
              "2       7     4.5  Toy Story (1995)     11.0\n",
              "3      15     2.5  Toy Story (1995)     11.0\n",
              "4      17     4.5  Toy Story (1995)     11.0"
            ]
          },
          "metadata": {},
          "execution_count": 58
        }
      ]
    },
    {
      "cell_type": "code",
      "metadata": {
        "colab": {
          "base_uri": "https://localhost:8080/"
        },
        "id": "jk1EkICoOm0M",
        "outputId": "b6c62dac-3b9f-448f-b8a4-b3251aa6db8d"
      },
      "source": [
        "# ALS recommender algorithm\n",
        "from pyspark.ml.recommendation import ALS\n",
        "\n",
        "train, test = indexed.randomSplit([0.75, 0.25])\n",
        "\n",
        "rec = ALS(maxIter=10,\n",
        "         regParam=0.01,\n",
        "         userCol='userId',\n",
        "         itemCol='movieId',\n",
        "         ratingCol='rating', # title -> predict할 때는 필요 없음!\n",
        "         nonnegative=True,\n",
        "         coldStartStrategy='drop')\n",
        "# ALS모델 학습 -> dataframe을 넣어주기\n",
        "rec_model = rec.fit(train)\n",
        "\n",
        "# transform을 이용해 예측 -> dataframe을 넣어주기\n",
        "pred_ratings = rec_model.transform(test)\n",
        "pred_ratings.show()"
      ],
      "execution_count": 59,
      "outputs": [
        {
          "output_type": "stream",
          "name": "stdout",
          "text": [
            "+------+------+---------------+-------+----------+\n",
            "|userId|rating|          title|movieId|prediction|\n",
            "+------+------+---------------+-------+----------+\n",
            "|   597|   5.0|Rain Man (1988)|  148.0|  4.013526|\n",
            "|   332|   4.0|Rain Man (1988)|  148.0| 3.3470201|\n",
            "|   577|   4.0|Rain Man (1988)|  148.0| 3.7954178|\n",
            "|   606|   4.0|Rain Man (1988)|  148.0| 4.2757907|\n",
            "|   103|   5.0|Rain Man (1988)|  148.0| 3.8720973|\n",
            "|   330|   4.0|Rain Man (1988)|  148.0| 3.9671888|\n",
            "|   230|   3.0|Rain Man (1988)|  148.0|  4.569448|\n",
            "|   157|   4.0|Rain Man (1988)|  148.0| 3.8274999|\n",
            "|   232|   4.0|Rain Man (1988)|  148.0| 3.4499242|\n",
            "|    47|   4.0|Rain Man (1988)|  148.0|  3.325891|\n",
            "|   305|   4.0|Rain Man (1988)|  148.0| 3.5082836|\n",
            "|   363|   3.0|Rain Man (1988)|  148.0| 4.0165424|\n",
            "|   274|   3.5|Rain Man (1988)|  148.0| 3.0592623|\n",
            "|   474|   4.0|Rain Man (1988)|  148.0| 4.0432987|\n",
            "|   169|   4.5|Rain Man (1988)|  148.0|  4.520741|\n",
            "|   227|   4.5|Rain Man (1988)|  148.0|  4.048698|\n",
            "|   531|   5.0|Rain Man (1988)|  148.0| 5.7030983|\n",
            "|   318|   3.5|Rain Man (1988)|  148.0|  3.483586|\n",
            "|   202|   4.0|Rain Man (1988)|  148.0| 4.1600404|\n",
            "|   100|   3.5|Rain Man (1988)|  148.0| 4.7574306|\n",
            "+------+------+---------------+-------+----------+\n",
            "only showing top 20 rows\n",
            "\n"
          ]
        }
      ]
    },
    {
      "cell_type": "code",
      "metadata": {
        "colab": {
          "base_uri": "https://localhost:8080/"
        },
        "id": "4PiZ1PhoOwGa",
        "outputId": "5cbff577-c305-45a4-ea32-4a33385d4d32"
      },
      "source": [
        "from pyspark.ml.evaluation import RegressionEvaluator\n",
        "\n",
        "evaluator = RegressionEvaluator(labelCol='rating',\n",
        "                               predictionCol='prediction',\n",
        "                               metricName='rmse')\n",
        "# evaluate 메소드에 예측값 담겨있는 dataframe 넣어주기\n",
        "rmse = evaluator.evaluate(pred_ratings)\n",
        "\n",
        "mae_eval = RegressionEvaluator(labelCol='rating',\n",
        "                              predictionCol='prediction',\n",
        "                              metricName='mae')\n",
        "mae = mae_eval.evaluate(pred_ratings)\n",
        "\n",
        "print(\"RMSE:\", rmse)\n",
        "print(\"MAE:\", mae)"
      ],
      "execution_count": 60,
      "outputs": [
        {
          "output_type": "stream",
          "name": "stdout",
          "text": [
            "RMSE: 1.0451856741422667\n",
            "MAE: 0.7896248567737227\n"
          ]
        }
      ]
    },
    {
      "cell_type": "code",
      "metadata": {
        "id": "Ia3jSlcoUV_O"
      },
      "source": [
        "unique_movies = indexed.select(\"movieId\").distinct()\n",
        "def top_movies(user_id, n):\n",
        "    \"\"\"\n",
        "    특정 user_id가 좋아할 만한 n개의 영화 추천해주는 함수\n",
        "    \"\"\"\n",
        "    # unique_movies 데이터프레임을 'a'라는 데이터프레임으로 alias시키기\n",
        "    a = unique_movies.alias('a')\n",
        "\n",
        "    # 특정 user_id가 본 영화들만 담은 새로운 데이터프레임 생성\n",
        "    watched_movies = indexed.filter(indexed['userId'] == user_id)\\\n",
        "                            .select('movieId')\n",
        "\n",
        "    # 특정 user_id가 본 영화들을 'b'라는 데이터프레임으로 alias시키기\n",
        "    b = watched_movies.alias('b')\n",
        "\n",
        "    # unique_movies를 기준으로 watched_movies를 조인시켜서 user_id가 보지 못한 영화들 파악 가능\n",
        "    total_movies = a.join(b, a['movieId'] == b['movieId'],\n",
        "                         how='left')\n",
        "\n",
        "    # b 데이터프레임의 movieId값이 결측치를 갖고 있는 행의 a.movieId를 뽑아냄으로써 user_id가 아직 못본 영화들 추출\n",
        "    # col('b.movieId') => b 데이터프레임의 movieId칼럼 의미(SQL처럼 가능!)\n",
        "    remaining_movies = total_movies\\\n",
        "                       .where(col('b.movieId').isNull())\\\n",
        "                       .select('a.movieId').distinct()\n",
        "    # remaining_movies 데이터프레임에 특정 user_id값을 동일하게 새로운 변수로 추가해주기\n",
        "    remaining_movies = remaining_movies.withColumn('userId',\n",
        "                                                  lit(int(user_id)))\n",
        "    # 위에서 만든 ALS 모델을 사용하여 추천 평점 예측 후 n개 만큼 view -> \n",
        "    recommender = rec_model.transform(remaining_movies)\\\n",
        "                           .orderBy('prediction', ascending=False)\\\n",
        "                           .limit(n)\n",
        "    # StringIndexer로 만든 것을 역으로 바꾸기 위해 IndexToString사용(영화제목을 숫자->한글제목)\n",
        "    movie_title = IndexToString(inputCol='movieId',\n",
        "                               outputCol='title',\n",
        "                               labels=model.labels) \n",
        "    # transform해서 영화제목을 숫자->한글로 변환! => dataframe으로 반환\n",
        "    final_recommendations = movie_title.transform(recommender)\n",
        "\n",
        "    return final_recommendations.show(n, truncate=False)"
      ],
      "execution_count": 61,
      "outputs": []
    },
    {
      "cell_type": "code",
      "metadata": {
        "colab": {
          "base_uri": "https://localhost:8080/"
        },
        "id": "EK6bin1jUr0d",
        "outputId": "b1d1c717-1d18-4472-fc03-b7551311040a"
      },
      "source": [
        "top_movies(100, 5)"
      ],
      "execution_count": 63,
      "outputs": [
        {
          "output_type": "stream",
          "name": "stdout",
          "text": [
            "+-------+------+----------+------------------------------+\n",
            "|movieId|userId|prediction|title                         |\n",
            "+-------+------+----------+------------------------------+\n",
            "|3614.0 |100   |8.286353  |Topo, El (1970)               |\n",
            "|2701.0 |100   |7.611109  |Capturing the Friedmans (2003)|\n",
            "|1750.0 |100   |7.3170657 |Barcelona (1994)              |\n",
            "|3206.0 |100   |7.206392  |Snow Dogs (2002)              |\n",
            "|3392.0 |100   |7.1937494 |Garfield: The Movie (2004)    |\n",
            "+-------+------+----------+------------------------------+\n",
            "\n"
          ]
        }
      ]
    },
    {
      "cell_type": "code",
      "metadata": {
        "id": "0rhq7h3CUsRa"
      },
      "source": [
        ""
      ],
      "execution_count": null,
      "outputs": []
    }
  ]
}